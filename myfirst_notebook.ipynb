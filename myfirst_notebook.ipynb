{
 "cells": [
  {
   "cell_type": "markdown",
   "id": "589a4164-fd68-42d7-b1f2-fd887da075cf",
   "metadata": {},
   "source": [
    "# Welcome to Jupyter Notebook\n",
    "\n",
    "I'm going to use this for my DSS course\n"
   ]
  },
  {
   "cell_type": "code",
   "execution_count": 3,
   "id": "a44bfdaa-6040-4b59-b6ff-d768f24e5592",
   "metadata": {},
   "outputs": [
    {
     "name": "stdout",
     "output_type": "stream",
     "text": [
      "Hello! World!\n"
     ]
    }
   ],
   "source": [
    "print(\"Hello! World!\")"
   ]
  },
  {
   "cell_type": "code",
   "execution_count": null,
   "id": "7f3dedc5-7f42-4f3b-8c3e-888b519f475d",
   "metadata": {},
   "outputs": [],
   "source": []
  }
 ],
 "metadata": {
  "kernelspec": {
   "display_name": "Python 3 (ipykernel)",
   "language": "python",
   "name": "python3"
  },
  "language_info": {
   "codemirror_mode": {
    "name": "ipython",
    "version": 3
   },
   "file_extension": ".py",
   "mimetype": "text/x-python",
   "name": "python",
   "nbconvert_exporter": "python",
   "pygments_lexer": "ipython3",
   "version": "3.12.4"
  }
 },
 "nbformat": 4,
 "nbformat_minor": 5
}
