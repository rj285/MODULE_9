{
 "cells": [
  {
   "cell_type": "code",
   "execution_count": null,
   "id": "27d39f40-3b02-4bd2-ae05-f9c02304fc03",
   "metadata": {},
   "outputs": [],
   "source": [
    "#This is my first notebook#"
   ]
  },
  {
   "cell_type": "code",
   "execution_count": null,
   "id": "a44bfdaa-6040-4b59-b6ff-d768f24e5592",
   "metadata": {},
   "outputs": [],
   "source": []
  },
  {
   "cell_type": "markdown",
   "id": "bbede9c5-db4a-4518-b7bf-89a26d403040",
   "metadata": {},
   "source": []
  },
  {
   "cell_type": "code",
   "execution_count": null,
   "id": "468ba543-57b3-4af9-95f1-46969628db98",
   "metadata": {},
   "outputs": [],
   "source": []
  },
  {
   "cell_type": "code",
   "execution_count": null,
   "id": "a4be8dc0-4ece-4a96-9899-891579cb5ddf",
   "metadata": {},
   "outputs": [],
   "source": []
  },
  {
   "cell_type": "code",
   "execution_count": null,
   "id": "35e8107e-ec5c-4f5d-ab90-f4db60a847fe",
   "metadata": {},
   "outputs": [],
   "source": []
  }
 ],
 "metadata": {
  "kernelspec": {
   "display_name": "Python 3 (ipykernel)",
   "language": "python",
   "name": "python3"
  },
  "language_info": {
   "codemirror_mode": {
    "name": "ipython",
    "version": 3
   },
   "file_extension": ".py",
   "mimetype": "text/x-python",
   "name": "python",
   "nbconvert_exporter": "python",
   "pygments_lexer": "ipython3",
   "version": "3.12.4"
  }
 },
 "nbformat": 4,
 "nbformat_minor": 5
}
